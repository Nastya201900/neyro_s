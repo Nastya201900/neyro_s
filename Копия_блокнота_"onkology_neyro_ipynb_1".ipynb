{
  "nbformat": 4,
  "nbformat_minor": 0,
  "metadata": {
    "colab": {
      "provenance": [],
      "authorship_tag": "ABX9TyMbwwIkocctRvEPCFIdNZIj",
      "include_colab_link": true
    },
    "kernelspec": {
      "name": "python3",
      "display_name": "Python 3"
    },
    "language_info": {
      "name": "python"
    }
  },
  "cells": [
    {
      "cell_type": "markdown",
      "metadata": {
        "id": "view-in-github",
        "colab_type": "text"
      },
      "source": [
        "<a href=\"https://colab.research.google.com/github/Nastya201900/neyro_s/blob/main/%D0%9A%D0%BE%D0%BF%D0%B8%D1%8F_%D0%B1%D0%BB%D0%BE%D0%BA%D0%BD%D0%BE%D1%82%D0%B0_%22onkology_neyro_ipynb_1%22.ipynb\" target=\"_parent\"><img src=\"https://colab.research.google.com/assets/colab-badge.svg\" alt=\"Open In Colab\"/></a>"
      ]
    },
    {
      "cell_type": "markdown",
      "source": [
        "импорт библиотек и загрузка файла"
      ],
      "metadata": {
        "id": "vGrXCYIERAB4"
      }
    },
    {
      "cell_type": "code",
      "execution_count": null,
      "metadata": {
        "id": "r-xK67T8iygr"
      },
      "outputs": [],
      "source": [
        "import pandas as pd\n",
        "from google.colab import files\n",
        "url = 'https://raw.githubusercontent.com/Dhrumilcse/Breast-Cancer-Classifier-ANN/master/breastCancer.csv'\n",
        "neyro_index = pd.read_csv(url, header = None)"
      ]
    },
    {
      "cell_type": "markdown",
      "source": [
        "так как в файле есть пропущенные значения, то можно добавить класс из 0 и 1, где 0 - показатель доброкачественной опухоли, а 1 - злокачественной"
      ],
      "metadata": {
        "id": "SB4nERZMRRar"
      }
    },
    {
      "cell_type": "code",
      "source": [
        "df = pd.DataFrame(neyro_index)\n",
        "df[6] = df[6].replace('?',0)\n",
        "df[6] = df[6].astype(int)\n",
        "print(df.dtypes)\n",
        "\n",
        "mean = int(df[6].mean())\n",
        "df[6] = df[6].replace(0,mean)\n",
        "print(df)"
      ],
      "metadata": {
        "colab": {
          "base_uri": "https://localhost:8080/"
        },
        "id": "3QUCKs2CoVT-",
        "outputId": "f2cc9122-ce95-4aba-aeac-807ff15c5df8"
      },
      "execution_count": null,
      "outputs": [
        {
          "output_type": "stream",
          "name": "stdout",
          "text": [
            "0     int64\n",
            "1     int64\n",
            "2     int64\n",
            "3     int64\n",
            "4     int64\n",
            "5     int64\n",
            "6     int64\n",
            "7     int64\n",
            "8     int64\n",
            "9     int64\n",
            "10    int64\n",
            "dtype: object\n",
            "          0   1   2   3   4   5   6   7   8   9   10\n",
            "0    1000025   5   1   1   1   2   1   3   1   1   2\n",
            "1    1002945   5   4   4   5   7  10   3   2   1   2\n",
            "2    1015425   3   1   1   1   2   2   3   1   1   2\n",
            "3    1016277   6   8   8   1   3   4   3   7   1   2\n",
            "4    1017023   4   1   1   3   2   1   3   1   1   2\n",
            "..       ...  ..  ..  ..  ..  ..  ..  ..  ..  ..  ..\n",
            "694   776715   3   1   1   1   3   2   1   1   1   2\n",
            "695   841769   2   1   1   1   2   1   1   1   1   2\n",
            "696   888820   5  10  10   3   7   3   8  10   2   4\n",
            "697   897471   4   8   6   4   3   4  10   6   1   4\n",
            "698   897471   4   8   8   5   4   5  10   4   1   4\n",
            "\n",
            "[699 rows x 11 columns]\n"
          ]
        }
      ]
    },
    {
      "cell_type": "code",
      "source": [
        "df[10] = df[10].replace(2,0).replace(4,1)\n",
        "print(df)"
      ],
      "metadata": {
        "colab": {
          "base_uri": "https://localhost:8080/"
        },
        "id": "b4qqXSAfu47I",
        "outputId": "f209183e-f963-403f-cb40-11e4f48a3900"
      },
      "execution_count": null,
      "outputs": [
        {
          "output_type": "stream",
          "name": "stdout",
          "text": [
            "          0   1   2   3   4   5   6   7   8   9   10\n",
            "0    1000025   5   1   1   1   2   1   3   1   1   0\n",
            "1    1002945   5   4   4   5   7  10   3   2   1   0\n",
            "2    1015425   3   1   1   1   2   2   3   1   1   0\n",
            "3    1016277   6   8   8   1   3   4   3   7   1   0\n",
            "4    1017023   4   1   1   3   2   1   3   1   1   0\n",
            "..       ...  ..  ..  ..  ..  ..  ..  ..  ..  ..  ..\n",
            "694   776715   3   1   1   1   3   2   1   1   1   0\n",
            "695   841769   2   1   1   1   2   1   1   1   1   0\n",
            "696   888820   5  10  10   3   7   3   8  10   2   1\n",
            "697   897471   4   8   6   4   3   4  10   6   1   1\n",
            "698   897471   4   8   8   5   4   5  10   4   1   1\n",
            "\n",
            "[699 rows x 11 columns]\n"
          ]
        }
      ]
    },
    {
      "cell_type": "markdown",
      "source": [
        "так как модель обучается без учителя, то для того, чтобы правильно поделить данные, импортируется библиотека. Она делит числовые значения по следующему принципу: 20% на тестирование, 80% - обучение"
      ],
      "metadata": {
        "id": "mSgzG8B6S8W-"
      }
    },
    {
      "cell_type": "code",
      "source": [
        "from sklearn.model_selection import *\n",
        "\n",
        "X = df.iloc[:, 1:10]\n",
        "Y = df.iloc[:, 10]\n",
        "\n",
        "X_1, X_test, Y_1, Y_test = train_test_split(X, Y, test_size = 0.2, random_state = 20)"
      ],
      "metadata": {
        "id": "ODEAtPvhvAZG"
      },
      "execution_count": null,
      "outputs": []
    },
    {
      "cell_type": "markdown",
      "source": [
        "масштабирование функций. В большинстве случаев набор данных будет содержать функции, сильно различающиеся по величине, единицам и диапазону. Но большинство алгоритмов машинного обучения используют в своих вычислениях евклидово расстояние между двумя точками данных. Нам нужно довести все функции до одного уровня величин. Это может быть достигнуто путем масштабирования. Это означает, что мы преобразуем свои данные так, чтобы они соответствовали определенному масштабу (например 1-100, 5-34)"
      ],
      "metadata": {
        "id": "ekvfumVheARh"
      }
    },
    {
      "cell_type": "code",
      "source": [
        "from sklearn.preprocessing import *\n",
        "scaler = StandardScaler()\n",
        "X_1 = scaler.fit_transform(X_1)\n",
        "X_test = scaler.transform(X_test)"
      ],
      "metadata": {
        "id": "Ev97V8nbvB6r"
      },
      "execution_count": null,
      "outputs": []
    },
    {
      "cell_type": "code",
      "source": [
        "from keras.models import *\n",
        "from keras.layers import *"
      ],
      "metadata": {
        "id": "hCQViRjuvF7y"
      },
      "execution_count": null,
      "outputs": []
    },
    {
      "cell_type": "code",
      "source": [
        "classifier = Sequential()"
      ],
      "metadata": {
        "id": "0vLoOQy8wyym"
      },
      "execution_count": null,
      "outputs": []
    },
    {
      "cell_type": "markdown",
      "source": [
        "добавление скрытых и входных слоёв"
      ],
      "metadata": {
        "id": "b1HKCKXyczeS"
      }
    },
    {
      "cell_type": "code",
      "source": [
        "classifier.add(Dense(units = 5, activation = 'relu', input_dim=9))\n",
        "classifier.add(Dense(units = 3, activation = 'relu'))\n",
        "classifier.add(Dense(units = 1, activation = 'sigmoid'))"
      ],
      "metadata": {
        "id": "pzBw_vl8w_B-"
      },
      "execution_count": null,
      "outputs": []
    },
    {
      "cell_type": "markdown",
      "source": [],
      "metadata": {
        "id": "Hk71l8mKxSan"
      }
    },
    {
      "cell_type": "markdown",
      "source": [
        "Создание модели обучения нейронной сети (2 параметр - среднеквадратичная ошибка, "
      ],
      "metadata": {
        "id": "SVTuVk4WxUSx"
      }
    },
    {
      "cell_type": "code",
      "source": [
        "classifier.compile(optimizer='adam', loss='mean_squared_error', metrics=['accuracy'])"
      ],
      "metadata": {
        "id": "tStQH1ZbxZ0Q"
      },
      "execution_count": null,
      "outputs": []
    },
    {
      "cell_type": "markdown",
      "source": [
        "Обучение модели (всего 10 итераций - обучающих примеров)"
      ],
      "metadata": {
        "id": "ldNHb5zLx0nL"
      }
    },
    {
      "cell_type": "code",
      "source": [
        "classifier.fit(X_1, Y_1, batch_size = 10, epochs = 100)"
      ],
      "metadata": {
        "colab": {
          "base_uri": "https://localhost:8080/"
        },
        "id": "Q53ePworx3I2",
        "outputId": "d53e94f2-df67-4aee-a478-317e9b3e4699"
      },
      "execution_count": null,
      "outputs": [
        {
          "output_type": "stream",
          "name": "stdout",
          "text": [
            "Epoch 1/100\n",
            "63/63 [==============================] - 1s 2ms/step - loss: 0.1679 - accuracy: 0.7917\n",
            "Epoch 2/100\n",
            "63/63 [==============================] - 0s 2ms/step - loss: 0.1180 - accuracy: 0.8696\n",
            "Epoch 3/100\n",
            "63/63 [==============================] - 0s 2ms/step - loss: 0.0795 - accuracy: 0.9618\n",
            "Epoch 4/100\n",
            "63/63 [==============================] - 0s 2ms/step - loss: 0.0522 - accuracy: 0.9698\n",
            "Epoch 5/100\n",
            "63/63 [==============================] - 0s 2ms/step - loss: 0.0384 - accuracy: 0.9698\n",
            "Epoch 6/100\n",
            "63/63 [==============================] - 0s 2ms/step - loss: 0.0318 - accuracy: 0.9730\n",
            "Epoch 7/100\n",
            "63/63 [==============================] - 0s 2ms/step - loss: 0.0282 - accuracy: 0.9730\n",
            "Epoch 8/100\n",
            "63/63 [==============================] - 0s 2ms/step - loss: 0.0260 - accuracy: 0.9746\n",
            "Epoch 9/100\n",
            "63/63 [==============================] - 0s 2ms/step - loss: 0.0246 - accuracy: 0.9762\n",
            "Epoch 10/100\n",
            "63/63 [==============================] - 0s 2ms/step - loss: 0.0235 - accuracy: 0.9762\n",
            "Epoch 11/100\n",
            "63/63 [==============================] - 0s 2ms/step - loss: 0.0228 - accuracy: 0.9762\n",
            "Epoch 12/100\n",
            "63/63 [==============================] - 0s 2ms/step - loss: 0.0223 - accuracy: 0.9762\n",
            "Epoch 13/100\n",
            "63/63 [==============================] - 0s 2ms/step - loss: 0.0218 - accuracy: 0.9762\n",
            "Epoch 14/100\n",
            "63/63 [==============================] - 0s 2ms/step - loss: 0.0214 - accuracy: 0.9762\n",
            "Epoch 15/100\n",
            "63/63 [==============================] - 0s 2ms/step - loss: 0.0211 - accuracy: 0.9762\n",
            "Epoch 16/100\n",
            "63/63 [==============================] - 0s 2ms/step - loss: 0.0209 - accuracy: 0.9762\n",
            "Epoch 17/100\n",
            "63/63 [==============================] - 0s 2ms/step - loss: 0.0206 - accuracy: 0.9762\n",
            "Epoch 18/100\n",
            "63/63 [==============================] - 0s 2ms/step - loss: 0.0204 - accuracy: 0.9762\n",
            "Epoch 19/100\n",
            "63/63 [==============================] - 0s 2ms/step - loss: 0.0203 - accuracy: 0.9762\n",
            "Epoch 20/100\n",
            "63/63 [==============================] - 0s 2ms/step - loss: 0.0201 - accuracy: 0.9762\n",
            "Epoch 21/100\n",
            "63/63 [==============================] - 0s 2ms/step - loss: 0.0199 - accuracy: 0.9762\n",
            "Epoch 22/100\n",
            "63/63 [==============================] - 0s 2ms/step - loss: 0.0197 - accuracy: 0.9777\n",
            "Epoch 23/100\n",
            "63/63 [==============================] - 0s 2ms/step - loss: 0.0196 - accuracy: 0.9777\n",
            "Epoch 24/100\n",
            "63/63 [==============================] - 0s 2ms/step - loss: 0.0195 - accuracy: 0.9777\n",
            "Epoch 25/100\n",
            "63/63 [==============================] - 0s 2ms/step - loss: 0.0193 - accuracy: 0.9777\n",
            "Epoch 26/100\n",
            "63/63 [==============================] - 0s 2ms/step - loss: 0.0191 - accuracy: 0.9777\n",
            "Epoch 27/100\n",
            "63/63 [==============================] - 0s 2ms/step - loss: 0.0190 - accuracy: 0.9777\n",
            "Epoch 28/100\n",
            "63/63 [==============================] - 0s 2ms/step - loss: 0.0188 - accuracy: 0.9777\n",
            "Epoch 29/100\n",
            "63/63 [==============================] - 0s 2ms/step - loss: 0.0186 - accuracy: 0.9777\n",
            "Epoch 30/100\n",
            "63/63 [==============================] - 0s 2ms/step - loss: 0.0182 - accuracy: 0.9777\n",
            "Epoch 31/100\n",
            "63/63 [==============================] - 0s 2ms/step - loss: 0.0180 - accuracy: 0.9793\n",
            "Epoch 32/100\n",
            "63/63 [==============================] - 0s 2ms/step - loss: 0.0178 - accuracy: 0.9793\n",
            "Epoch 33/100\n",
            "63/63 [==============================] - 0s 2ms/step - loss: 0.0175 - accuracy: 0.9793\n",
            "Epoch 34/100\n",
            "63/63 [==============================] - 0s 2ms/step - loss: 0.0173 - accuracy: 0.9809\n",
            "Epoch 35/100\n",
            "63/63 [==============================] - 0s 2ms/step - loss: 0.0172 - accuracy: 0.9825\n",
            "Epoch 36/100\n",
            "63/63 [==============================] - 0s 2ms/step - loss: 0.0170 - accuracy: 0.9809\n",
            "Epoch 37/100\n",
            "63/63 [==============================] - 0s 3ms/step - loss: 0.0168 - accuracy: 0.9809\n",
            "Epoch 38/100\n",
            "63/63 [==============================] - 0s 2ms/step - loss: 0.0166 - accuracy: 0.9825\n",
            "Epoch 39/100\n",
            "63/63 [==============================] - 0s 2ms/step - loss: 0.0165 - accuracy: 0.9825\n",
            "Epoch 40/100\n",
            "63/63 [==============================] - 0s 2ms/step - loss: 0.0164 - accuracy: 0.9809\n",
            "Epoch 41/100\n",
            "63/63 [==============================] - 0s 2ms/step - loss: 0.0162 - accuracy: 0.9809\n",
            "Epoch 42/100\n",
            "63/63 [==============================] - 0s 2ms/step - loss: 0.0161 - accuracy: 0.9809\n",
            "Epoch 43/100\n",
            "63/63 [==============================] - 0s 2ms/step - loss: 0.0159 - accuracy: 0.9809\n",
            "Epoch 44/100\n",
            "63/63 [==============================] - 0s 2ms/step - loss: 0.0158 - accuracy: 0.9825\n",
            "Epoch 45/100\n",
            "63/63 [==============================] - 0s 2ms/step - loss: 0.0158 - accuracy: 0.9825\n",
            "Epoch 46/100\n",
            "63/63 [==============================] - 0s 2ms/step - loss: 0.0156 - accuracy: 0.9825\n",
            "Epoch 47/100\n",
            "63/63 [==============================] - 0s 2ms/step - loss: 0.0157 - accuracy: 0.9825\n",
            "Epoch 48/100\n",
            "63/63 [==============================] - 0s 2ms/step - loss: 0.0154 - accuracy: 0.9825\n",
            "Epoch 49/100\n",
            "63/63 [==============================] - 0s 2ms/step - loss: 0.0153 - accuracy: 0.9825\n",
            "Epoch 50/100\n",
            "63/63 [==============================] - 0s 2ms/step - loss: 0.0151 - accuracy: 0.9825\n",
            "Epoch 51/100\n",
            "63/63 [==============================] - 0s 2ms/step - loss: 0.0151 - accuracy: 0.9825\n",
            "Epoch 52/100\n",
            "63/63 [==============================] - 0s 2ms/step - loss: 0.0148 - accuracy: 0.9825\n",
            "Epoch 53/100\n",
            "63/63 [==============================] - 0s 2ms/step - loss: 0.0149 - accuracy: 0.9825\n",
            "Epoch 54/100\n",
            "63/63 [==============================] - 0s 3ms/step - loss: 0.0148 - accuracy: 0.9841\n",
            "Epoch 55/100\n",
            "63/63 [==============================] - 0s 3ms/step - loss: 0.0146 - accuracy: 0.9841\n",
            "Epoch 56/100\n",
            "63/63 [==============================] - 0s 2ms/step - loss: 0.0145 - accuracy: 0.9825\n",
            "Epoch 57/100\n",
            "63/63 [==============================] - 0s 3ms/step - loss: 0.0145 - accuracy: 0.9841\n",
            "Epoch 58/100\n",
            "63/63 [==============================] - 0s 3ms/step - loss: 0.0144 - accuracy: 0.9841\n",
            "Epoch 59/100\n",
            "63/63 [==============================] - 0s 2ms/step - loss: 0.0143 - accuracy: 0.9841\n",
            "Epoch 60/100\n",
            "63/63 [==============================] - 0s 2ms/step - loss: 0.0142 - accuracy: 0.9841\n",
            "Epoch 61/100\n",
            "63/63 [==============================] - 0s 2ms/step - loss: 0.0142 - accuracy: 0.9825\n",
            "Epoch 62/100\n",
            "63/63 [==============================] - 0s 3ms/step - loss: 0.0141 - accuracy: 0.9841\n",
            "Epoch 63/100\n",
            "63/63 [==============================] - 0s 2ms/step - loss: 0.0139 - accuracy: 0.9841\n",
            "Epoch 64/100\n",
            "63/63 [==============================] - 0s 3ms/step - loss: 0.0141 - accuracy: 0.9825\n",
            "Epoch 65/100\n",
            "63/63 [==============================] - 0s 3ms/step - loss: 0.0140 - accuracy: 0.9841\n",
            "Epoch 66/100\n",
            "63/63 [==============================] - 0s 3ms/step - loss: 0.0138 - accuracy: 0.9841\n",
            "Epoch 67/100\n",
            "63/63 [==============================] - 0s 2ms/step - loss: 0.0138 - accuracy: 0.9825\n",
            "Epoch 68/100\n",
            "63/63 [==============================] - 0s 3ms/step - loss: 0.0136 - accuracy: 0.9841\n",
            "Epoch 69/100\n",
            "63/63 [==============================] - 0s 3ms/step - loss: 0.0136 - accuracy: 0.9841\n",
            "Epoch 70/100\n",
            "63/63 [==============================] - 0s 3ms/step - loss: 0.0135 - accuracy: 0.9841\n",
            "Epoch 71/100\n",
            "63/63 [==============================] - 0s 2ms/step - loss: 0.0135 - accuracy: 0.9841\n",
            "Epoch 72/100\n",
            "63/63 [==============================] - 0s 2ms/step - loss: 0.0134 - accuracy: 0.9841\n",
            "Epoch 73/100\n",
            "63/63 [==============================] - 0s 2ms/step - loss: 0.0133 - accuracy: 0.9841\n",
            "Epoch 74/100\n",
            "63/63 [==============================] - 0s 2ms/step - loss: 0.0133 - accuracy: 0.9841\n",
            "Epoch 75/100\n",
            "63/63 [==============================] - 0s 2ms/step - loss: 0.0132 - accuracy: 0.9857\n",
            "Epoch 76/100\n",
            "63/63 [==============================] - 0s 2ms/step - loss: 0.0132 - accuracy: 0.9841\n",
            "Epoch 77/100\n",
            "63/63 [==============================] - 0s 2ms/step - loss: 0.0131 - accuracy: 0.9841\n",
            "Epoch 78/100\n",
            "63/63 [==============================] - 0s 2ms/step - loss: 0.0130 - accuracy: 0.9841\n",
            "Epoch 79/100\n",
            "63/63 [==============================] - 0s 2ms/step - loss: 0.0131 - accuracy: 0.9825\n",
            "Epoch 80/100\n",
            "63/63 [==============================] - 0s 2ms/step - loss: 0.0129 - accuracy: 0.9857\n",
            "Epoch 81/100\n",
            "63/63 [==============================] - 0s 2ms/step - loss: 0.0128 - accuracy: 0.9857\n",
            "Epoch 82/100\n",
            "63/63 [==============================] - 0s 2ms/step - loss: 0.0129 - accuracy: 0.9841\n",
            "Epoch 83/100\n",
            "63/63 [==============================] - 0s 2ms/step - loss: 0.0129 - accuracy: 0.9841\n",
            "Epoch 84/100\n",
            "63/63 [==============================] - 0s 2ms/step - loss: 0.0128 - accuracy: 0.9841\n",
            "Epoch 85/100\n",
            "63/63 [==============================] - 0s 2ms/step - loss: 0.0127 - accuracy: 0.9841\n",
            "Epoch 86/100\n",
            "63/63 [==============================] - 0s 2ms/step - loss: 0.0127 - accuracy: 0.9857\n",
            "Epoch 87/100\n",
            "63/63 [==============================] - 0s 2ms/step - loss: 0.0126 - accuracy: 0.9857\n",
            "Epoch 88/100\n",
            "63/63 [==============================] - 0s 2ms/step - loss: 0.0126 - accuracy: 0.9857\n",
            "Epoch 89/100\n",
            "63/63 [==============================] - 0s 2ms/step - loss: 0.0126 - accuracy: 0.9857\n",
            "Epoch 90/100\n",
            "63/63 [==============================] - 0s 2ms/step - loss: 0.0124 - accuracy: 0.9857\n",
            "Epoch 91/100\n",
            "63/63 [==============================] - 0s 2ms/step - loss: 0.0124 - accuracy: 0.9857\n",
            "Epoch 92/100\n",
            "63/63 [==============================] - 0s 2ms/step - loss: 0.0126 - accuracy: 0.9857\n",
            "Epoch 93/100\n",
            "63/63 [==============================] - 0s 2ms/step - loss: 0.0123 - accuracy: 0.9841\n",
            "Epoch 94/100\n",
            "63/63 [==============================] - 0s 2ms/step - loss: 0.0123 - accuracy: 0.9857\n",
            "Epoch 95/100\n",
            "63/63 [==============================] - 0s 2ms/step - loss: 0.0122 - accuracy: 0.9857\n",
            "Epoch 96/100\n",
            "63/63 [==============================] - 0s 2ms/step - loss: 0.0122 - accuracy: 0.9841\n",
            "Epoch 97/100\n",
            "63/63 [==============================] - 0s 2ms/step - loss: 0.0122 - accuracy: 0.9841\n",
            "Epoch 98/100\n",
            "63/63 [==============================] - 0s 2ms/step - loss: 0.0122 - accuracy: 0.9857\n",
            "Epoch 99/100\n",
            "63/63 [==============================] - 0s 2ms/step - loss: 0.0122 - accuracy: 0.9857\n",
            "Epoch 100/100\n",
            "63/63 [==============================] - 0s 2ms/step - loss: 0.0120 - accuracy: 0.9857\n"
          ]
        },
        {
          "output_type": "execute_result",
          "data": {
            "text/plain": [
              "<keras.callbacks.History at 0x7fd7e1f50760>"
            ]
          },
          "metadata": {},
          "execution_count": 61
        }
      ]
    },
    {
      "cell_type": "markdown",
      "source": [
        "Пронозирование. По общему эмпирическрму правилу можно прийти к выводу, что 1(злокачественная опухоль) печатается при y >=0.5"
      ],
      "metadata": {
        "id": "fh7aRQWyyXkL"
      }
    },
    {
      "cell_type": "code",
      "source": [
        "Y_pred = classifier.predict(X_test)\n",
        "Y_pred = [ 1 if y>=0.5 else 0 for y in Y_pred]\n",
        "print(Y_pred)"
      ],
      "metadata": {
        "colab": {
          "base_uri": "https://localhost:8080/"
        },
        "id": "DVNFBZEXyZSt",
        "outputId": "5370c65d-aaac-40de-a5ad-b26c97822c3c"
      },
      "execution_count": null,
      "outputs": [
        {
          "output_type": "stream",
          "name": "stdout",
          "text": [
            "3/3 [==============================] - 0s 3ms/step\n",
            "[1, 0, 0, 0, 0, 1, 0, 0, 1, 0, 1, 0, 0, 0, 0, 0, 0, 0, 1, 1, 0, 1, 1, 0, 0, 1, 1, 1, 0, 0, 0, 0, 1, 1, 0, 0, 1, 0, 0, 1, 0, 0, 0, 0, 1, 1, 0, 1, 0, 1, 0, 0, 0, 0, 0, 0, 1, 0, 1, 1, 0, 0, 0, 0, 1, 1, 0, 0, 0, 0]\n"
          ]
        }
      ]
    },
    {
      "cell_type": "markdown",
      "source": [
        "Вывод матрицы путаницы, для того чтобы определить вероятность диагностики верных заболеваний."
      ],
      "metadata": {
        "id": "qOZMCaoszVro"
      }
    },
    {
      "cell_type": "code",
      "source": [
        "from sklearn.metrics import *\n",
        "matrix_veroyatn = confusion_matrix(Y_test, Y_pred)\n",
        "print(matrix_veroyatn)"
      ],
      "metadata": {
        "colab": {
          "base_uri": "https://localhost:8080/"
        },
        "id": "_wIMe7GIzsJF",
        "outputId": "f4f79fca-e3fe-4391-e4e0-3a95958b4394"
      },
      "execution_count": null,
      "outputs": [
        {
          "output_type": "stream",
          "name": "stdout",
          "text": [
            "[[44  3]\n",
            " [ 2 21]]\n"
          ]
        }
      ]
    }
  ]
}