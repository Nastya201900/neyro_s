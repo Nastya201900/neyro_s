{
  "nbformat": 4,
  "nbformat_minor": 0,
  "metadata": {
    "colab": {
      "provenance": [],
      "authorship_tag": "ABX9TyMkcKDS5JJlWeMk+rkp1q2B",
      "include_colab_link": true
    },
    "kernelspec": {
      "name": "python3",
      "display_name": "Python 3"
    },
    "language_info": {
      "name": "python"
    }
  },
  "cells": [
    {
      "cell_type": "markdown",
      "metadata": {
        "id": "view-in-github",
        "colab_type": "text"
      },
      "source": [
        "<a href=\"https://colab.research.google.com/github/Nastya201900/neyro_s/blob/main/onkology_neyro.ipynb\" target=\"_parent\"><img src=\"https://colab.research.google.com/assets/colab-badge.svg\" alt=\"Open In Colab\"/></a>"
      ]
    },
    {
      "cell_type": "code",
      "execution_count": null,
      "metadata": {
        "id": "r-xK67T8iygr"
      },
      "outputs": [],
      "source": [
        "import pandas as pd\n",
        "from google.colab import files\n",
        "url = 'https://raw.githubusercontent.com/Dhrumilcse/Breast-Cancer-Classifier-ANN/master/breastCancer.csv'\n",
        "neyro_index = pd.read_csv(url, header = None)"
      ]
    },
    {
      "cell_type": "code",
      "source": [
        "df = pd.DataFrame(neyro_index)\n",
        "df[6] = df[6].replace('?',0)\n",
        "df[6] = df[6].astype(int)\n",
        "print(df.dtypes)\n",
        "\n",
        "mean = int(df[6].mean())\n",
        "df[6] = df[6].replace(0,mean)\n",
        "print(df)"
      ],
      "metadata": {
        "colab": {
          "base_uri": "https://localhost:8080/"
        },
        "id": "3QUCKs2CoVT-",
        "outputId": "9d07a0ba-bb1e-406c-e833-c7ccc2f7844d"
      },
      "execution_count": null,
      "outputs": [
        {
          "output_type": "stream",
          "name": "stdout",
          "text": [
            "0     int64\n",
            "1     int64\n",
            "2     int64\n",
            "3     int64\n",
            "4     int64\n",
            "5     int64\n",
            "6     int64\n",
            "7     int64\n",
            "8     int64\n",
            "9     int64\n",
            "10    int64\n",
            "dtype: object\n",
            "          0   1   2   3   4   5   6   7   8   9   10\n",
            "0    1000025   5   1   1   1   2   1   3   1   1   0\n",
            "1    1002945   5   4   4   5   7  10   3   2   1   0\n",
            "2    1015425   3   1   1   1   2   2   3   1   1   0\n",
            "3    1016277   6   8   8   1   3   4   3   7   1   0\n",
            "4    1017023   4   1   1   3   2   1   3   1   1   0\n",
            "..       ...  ..  ..  ..  ..  ..  ..  ..  ..  ..  ..\n",
            "694   776715   3   1   1   1   3   2   1   1   1   0\n",
            "695   841769   2   1   1   1   2   1   1   1   1   0\n",
            "696   888820   5  10  10   3   7   3   8  10   2   1\n",
            "697   897471   4   8   6   4   3   4  10   6   1   1\n",
            "698   897471   4   8   8   5   4   5  10   4   1   1\n",
            "\n",
            "[699 rows x 11 columns]\n"
          ]
        }
      ]
    },
    {
      "cell_type": "code",
      "source": [
        "df[10] = df[10].replace(2,0).replace(4,1)\n",
        "print(df)"
      ],
      "metadata": {
        "colab": {
          "base_uri": "https://localhost:8080/"
        },
        "id": "b4qqXSAfu47I",
        "outputId": "09837ce6-97b2-4e37-aa9d-c83a021478e9"
      },
      "execution_count": null,
      "outputs": [
        {
          "output_type": "stream",
          "name": "stdout",
          "text": [
            "          0   1   2   3   4   5   6   7   8   9   10\n",
            "0    1000025   5   1   1   1   2   1   3   1   1   0\n",
            "1    1002945   5   4   4   5   7  10   3   2   1   0\n",
            "2    1015425   3   1   1   1   2   2   3   1   1   0\n",
            "3    1016277   6   8   8   1   3   4   3   7   1   0\n",
            "4    1017023   4   1   1   3   2   1   3   1   1   0\n",
            "..       ...  ..  ..  ..  ..  ..  ..  ..  ..  ..  ..\n",
            "694   776715   3   1   1   1   3   2   1   1   1   0\n",
            "695   841769   2   1   1   1   2   1   1   1   1   0\n",
            "696   888820   5  10  10   3   7   3   8  10   2   1\n",
            "697   897471   4   8   6   4   3   4  10   6   1   1\n",
            "698   897471   4   8   8   5   4   5  10   4   1   1\n",
            "\n",
            "[699 rows x 11 columns]\n"
          ]
        }
      ]
    },
    {
      "cell_type": "code",
      "source": [
        "from sklearn.model_selection import *\n",
        "\n",
        "X = df.iloc[:, 1:10]\n",
        "Y = df.iloc[:, 10]\n",
        "\n",
        "X_1, X_test, Y_1, Y_test = train_test_split(X, Y, test_size = 0.2, random_state = 0)"
      ],
      "metadata": {
        "id": "ODEAtPvhvAZG"
      },
      "execution_count": null,
      "outputs": []
    },
    {
      "cell_type": "code",
      "source": [
        "from sklearn.preprocessing import *\n",
        "scaler = StandardScaler()\n",
        "X_1 = scaler.fit_transform(X_1)\n",
        "X_test = scaler.transform(X_test)"
      ],
      "metadata": {
        "id": "Ev97V8nbvB6r"
      },
      "execution_count": null,
      "outputs": []
    },
    {
      "cell_type": "code",
      "source": [
        "from keras.models import *\n",
        "from keras.layers import *"
      ],
      "metadata": {
        "id": "hCQViRjuvF7y"
      },
      "execution_count": null,
      "outputs": []
    },
    {
      "cell_type": "code",
      "source": [
        "classifier = Sequential()"
      ],
      "metadata": {
        "id": "0vLoOQy8wyym"
      },
      "execution_count": null,
      "outputs": []
    },
    {
      "cell_type": "code",
      "source": [
        "classifier.add(Dense(units = 5, activation = 'relu', input_dim=9))\n",
        "classifier.add(Dense(units = 3, activation = 'relu'))\n",
        "classifier.add(Dense(units = 1, activation = 'sigmoid'))"
      ],
      "metadata": {
        "id": "pzBw_vl8w_B-"
      },
      "execution_count": null,
      "outputs": []
    },
    {
      "cell_type": "markdown",
      "source": [],
      "metadata": {
        "id": "Hk71l8mKxSan"
      }
    },
    {
      "cell_type": "markdown",
      "source": [
        "Создание модели обучения нейронной сети"
      ],
      "metadata": {
        "id": "SVTuVk4WxUSx"
      }
    },
    {
      "cell_type": "code",
      "source": [
        "classifier.compile(optimizer='adam', loss='mean_squared_error', metrics=['accuracy'])"
      ],
      "metadata": {
        "id": "tStQH1ZbxZ0Q"
      },
      "execution_count": null,
      "outputs": []
    },
    {
      "cell_type": "markdown",
      "source": [
        "Обучение модели"
      ],
      "metadata": {
        "id": "ldNHb5zLx0nL"
      }
    },
    {
      "cell_type": "code",
      "source": [
        "classifier.fit(X_1, Y_1, batch_size = 10, epochs = 100)"
      ],
      "metadata": {
        "colab": {
          "base_uri": "https://localhost:8080/"
        },
        "id": "Q53ePworx3I2",
        "outputId": "460192cf-1152-4ffb-9822-e1bedf2c46e3"
      },
      "execution_count": null,
      "outputs": [
        {
          "output_type": "stream",
          "name": "stdout",
          "text": [
            "Epoch 1/100\n",
            "56/56 [==============================] - 0s 2ms/step - loss: 0.0151 - accuracy: 0.9839\n",
            "Epoch 2/100\n",
            "56/56 [==============================] - 0s 2ms/step - loss: 0.0151 - accuracy: 0.9839\n",
            "Epoch 3/100\n",
            "56/56 [==============================] - 0s 2ms/step - loss: 0.0151 - accuracy: 0.9839\n",
            "Epoch 4/100\n",
            "56/56 [==============================] - 0s 2ms/step - loss: 0.0152 - accuracy: 0.9839\n",
            "Epoch 5/100\n",
            "56/56 [==============================] - 0s 2ms/step - loss: 0.0151 - accuracy: 0.9839\n",
            "Epoch 6/100\n",
            "56/56 [==============================] - 0s 2ms/step - loss: 0.0151 - accuracy: 0.9839\n",
            "Epoch 7/100\n",
            "56/56 [==============================] - 0s 2ms/step - loss: 0.0151 - accuracy: 0.9839\n",
            "Epoch 8/100\n",
            "56/56 [==============================] - 0s 2ms/step - loss: 0.0152 - accuracy: 0.9839\n",
            "Epoch 9/100\n",
            "56/56 [==============================] - 0s 2ms/step - loss: 0.0151 - accuracy: 0.9839\n",
            "Epoch 10/100\n",
            "56/56 [==============================] - 0s 2ms/step - loss: 0.0151 - accuracy: 0.9839\n",
            "Epoch 11/100\n",
            "56/56 [==============================] - 0s 2ms/step - loss: 0.0151 - accuracy: 0.9839\n",
            "Epoch 12/100\n",
            "56/56 [==============================] - 0s 2ms/step - loss: 0.0150 - accuracy: 0.9839\n",
            "Epoch 13/100\n",
            "56/56 [==============================] - 0s 2ms/step - loss: 0.0150 - accuracy: 0.9839\n",
            "Epoch 14/100\n",
            "56/56 [==============================] - 0s 2ms/step - loss: 0.0150 - accuracy: 0.9839\n",
            "Epoch 15/100\n",
            "56/56 [==============================] - 0s 2ms/step - loss: 0.0150 - accuracy: 0.9839\n",
            "Epoch 16/100\n",
            "56/56 [==============================] - 0s 2ms/step - loss: 0.0150 - accuracy: 0.9839\n",
            "Epoch 17/100\n",
            "56/56 [==============================] - 0s 2ms/step - loss: 0.0150 - accuracy: 0.9839\n",
            "Epoch 18/100\n",
            "56/56 [==============================] - 0s 2ms/step - loss: 0.0150 - accuracy: 0.9839\n",
            "Epoch 19/100\n",
            "56/56 [==============================] - 0s 2ms/step - loss: 0.0150 - accuracy: 0.9839\n",
            "Epoch 20/100\n",
            "56/56 [==============================] - 0s 2ms/step - loss: 0.0150 - accuracy: 0.9839\n",
            "Epoch 21/100\n",
            "56/56 [==============================] - 0s 2ms/step - loss: 0.0149 - accuracy: 0.9839\n",
            "Epoch 22/100\n",
            "56/56 [==============================] - 0s 2ms/step - loss: 0.0149 - accuracy: 0.9839\n",
            "Epoch 23/100\n",
            "56/56 [==============================] - 0s 2ms/step - loss: 0.0150 - accuracy: 0.9839\n",
            "Epoch 24/100\n",
            "56/56 [==============================] - 0s 2ms/step - loss: 0.0149 - accuracy: 0.9839\n",
            "Epoch 25/100\n",
            "56/56 [==============================] - 0s 2ms/step - loss: 0.0149 - accuracy: 0.9839\n",
            "Epoch 26/100\n",
            "56/56 [==============================] - 0s 2ms/step - loss: 0.0150 - accuracy: 0.9839\n",
            "Epoch 27/100\n",
            "56/56 [==============================] - 0s 2ms/step - loss: 0.0150 - accuracy: 0.9839\n",
            "Epoch 28/100\n",
            "56/56 [==============================] - 0s 2ms/step - loss: 0.0150 - accuracy: 0.9839\n",
            "Epoch 29/100\n",
            "56/56 [==============================] - 0s 2ms/step - loss: 0.0149 - accuracy: 0.9839\n",
            "Epoch 30/100\n",
            "56/56 [==============================] - 0s 2ms/step - loss: 0.0149 - accuracy: 0.9839\n",
            "Epoch 31/100\n",
            "56/56 [==============================] - 0s 2ms/step - loss: 0.0149 - accuracy: 0.9839\n",
            "Epoch 32/100\n",
            "56/56 [==============================] - 0s 2ms/step - loss: 0.0149 - accuracy: 0.9839\n",
            "Epoch 33/100\n",
            "56/56 [==============================] - 0s 2ms/step - loss: 0.0149 - accuracy: 0.9839\n",
            "Epoch 34/100\n",
            "56/56 [==============================] - 0s 2ms/step - loss: 0.0149 - accuracy: 0.9839\n",
            "Epoch 35/100\n",
            "56/56 [==============================] - 0s 2ms/step - loss: 0.0149 - accuracy: 0.9839\n",
            "Epoch 36/100\n",
            "56/56 [==============================] - 0s 2ms/step - loss: 0.0149 - accuracy: 0.9839\n",
            "Epoch 37/100\n",
            "56/56 [==============================] - 0s 2ms/step - loss: 0.0148 - accuracy: 0.9839\n",
            "Epoch 38/100\n",
            "56/56 [==============================] - 0s 2ms/step - loss: 0.0149 - accuracy: 0.9839\n",
            "Epoch 39/100\n",
            "56/56 [==============================] - 0s 2ms/step - loss: 0.0149 - accuracy: 0.9839\n",
            "Epoch 40/100\n",
            "56/56 [==============================] - 0s 2ms/step - loss: 0.0149 - accuracy: 0.9839\n",
            "Epoch 41/100\n",
            "56/56 [==============================] - 0s 2ms/step - loss: 0.0148 - accuracy: 0.9839\n",
            "Epoch 42/100\n",
            "56/56 [==============================] - 0s 2ms/step - loss: 0.0148 - accuracy: 0.9839\n",
            "Epoch 43/100\n",
            "56/56 [==============================] - 0s 2ms/step - loss: 0.0148 - accuracy: 0.9839\n",
            "Epoch 44/100\n",
            "56/56 [==============================] - 0s 2ms/step - loss: 0.0148 - accuracy: 0.9839\n",
            "Epoch 45/100\n",
            "56/56 [==============================] - 0s 2ms/step - loss: 0.0149 - accuracy: 0.9839\n",
            "Epoch 46/100\n",
            "56/56 [==============================] - 0s 2ms/step - loss: 0.0148 - accuracy: 0.9857\n",
            "Epoch 47/100\n",
            "56/56 [==============================] - 0s 2ms/step - loss: 0.0148 - accuracy: 0.9857\n",
            "Epoch 48/100\n",
            "56/56 [==============================] - 0s 2ms/step - loss: 0.0148 - accuracy: 0.9839\n",
            "Epoch 49/100\n",
            "56/56 [==============================] - 0s 2ms/step - loss: 0.0148 - accuracy: 0.9839\n",
            "Epoch 50/100\n",
            "56/56 [==============================] - 0s 2ms/step - loss: 0.0148 - accuracy: 0.9857\n",
            "Epoch 51/100\n",
            "56/56 [==============================] - 0s 2ms/step - loss: 0.0148 - accuracy: 0.9839\n",
            "Epoch 52/100\n",
            "56/56 [==============================] - 0s 2ms/step - loss: 0.0147 - accuracy: 0.9839\n",
            "Epoch 53/100\n",
            "56/56 [==============================] - 0s 2ms/step - loss: 0.0148 - accuracy: 0.9857\n",
            "Epoch 54/100\n",
            "56/56 [==============================] - 0s 2ms/step - loss: 0.0148 - accuracy: 0.9839\n",
            "Epoch 55/100\n",
            "56/56 [==============================] - 0s 2ms/step - loss: 0.0147 - accuracy: 0.9839\n",
            "Epoch 56/100\n",
            "56/56 [==============================] - 0s 2ms/step - loss: 0.0147 - accuracy: 0.9839\n",
            "Epoch 57/100\n",
            "56/56 [==============================] - 0s 2ms/step - loss: 0.0147 - accuracy: 0.9857\n",
            "Epoch 58/100\n",
            "56/56 [==============================] - 0s 2ms/step - loss: 0.0147 - accuracy: 0.9839\n",
            "Epoch 59/100\n",
            "56/56 [==============================] - 0s 2ms/step - loss: 0.0147 - accuracy: 0.9839\n",
            "Epoch 60/100\n",
            "56/56 [==============================] - 0s 2ms/step - loss: 0.0147 - accuracy: 0.9857\n",
            "Epoch 61/100\n",
            "56/56 [==============================] - 0s 2ms/step - loss: 0.0147 - accuracy: 0.9839\n",
            "Epoch 62/100\n",
            "56/56 [==============================] - 0s 2ms/step - loss: 0.0148 - accuracy: 0.9857\n",
            "Epoch 63/100\n",
            "56/56 [==============================] - 0s 2ms/step - loss: 0.0147 - accuracy: 0.9857\n",
            "Epoch 64/100\n",
            "56/56 [==============================] - 0s 2ms/step - loss: 0.0148 - accuracy: 0.9839\n",
            "Epoch 65/100\n",
            "56/56 [==============================] - 0s 2ms/step - loss: 0.0148 - accuracy: 0.9839\n",
            "Epoch 66/100\n",
            "56/56 [==============================] - 0s 2ms/step - loss: 0.0147 - accuracy: 0.9857\n",
            "Epoch 67/100\n",
            "56/56 [==============================] - 0s 2ms/step - loss: 0.0147 - accuracy: 0.9857\n",
            "Epoch 68/100\n",
            "56/56 [==============================] - 0s 2ms/step - loss: 0.0147 - accuracy: 0.9839\n",
            "Epoch 69/100\n",
            "56/56 [==============================] - 0s 2ms/step - loss: 0.0147 - accuracy: 0.9857\n",
            "Epoch 70/100\n",
            "56/56 [==============================] - 0s 2ms/step - loss: 0.0146 - accuracy: 0.9839\n",
            "Epoch 71/100\n",
            "56/56 [==============================] - 0s 2ms/step - loss: 0.0147 - accuracy: 0.9857\n",
            "Epoch 72/100\n",
            "56/56 [==============================] - 0s 2ms/step - loss: 0.0146 - accuracy: 0.9839\n",
            "Epoch 73/100\n",
            "56/56 [==============================] - 0s 2ms/step - loss: 0.0146 - accuracy: 0.9839\n",
            "Epoch 74/100\n",
            "56/56 [==============================] - 0s 2ms/step - loss: 0.0148 - accuracy: 0.9839\n",
            "Epoch 75/100\n",
            "56/56 [==============================] - 0s 2ms/step - loss: 0.0146 - accuracy: 0.9857\n",
            "Epoch 76/100\n",
            "56/56 [==============================] - 0s 2ms/step - loss: 0.0146 - accuracy: 0.9857\n",
            "Epoch 77/100\n",
            "56/56 [==============================] - 0s 2ms/step - loss: 0.0146 - accuracy: 0.9857\n",
            "Epoch 78/100\n",
            "56/56 [==============================] - 0s 2ms/step - loss: 0.0147 - accuracy: 0.9857\n",
            "Epoch 79/100\n",
            "56/56 [==============================] - 0s 2ms/step - loss: 0.0148 - accuracy: 0.9839\n",
            "Epoch 80/100\n",
            "56/56 [==============================] - 0s 2ms/step - loss: 0.0146 - accuracy: 0.9839\n",
            "Epoch 81/100\n",
            "56/56 [==============================] - 0s 2ms/step - loss: 0.0147 - accuracy: 0.9857\n",
            "Epoch 82/100\n",
            "56/56 [==============================] - 0s 2ms/step - loss: 0.0146 - accuracy: 0.9839\n",
            "Epoch 83/100\n",
            "56/56 [==============================] - 0s 2ms/step - loss: 0.0147 - accuracy: 0.9857\n",
            "Epoch 84/100\n",
            "56/56 [==============================] - 0s 2ms/step - loss: 0.0146 - accuracy: 0.9857\n",
            "Epoch 85/100\n",
            "56/56 [==============================] - 0s 2ms/step - loss: 0.0146 - accuracy: 0.9857\n",
            "Epoch 86/100\n",
            "56/56 [==============================] - 0s 2ms/step - loss: 0.0146 - accuracy: 0.9857\n",
            "Epoch 87/100\n",
            "56/56 [==============================] - 0s 2ms/step - loss: 0.0146 - accuracy: 0.9839\n",
            "Epoch 88/100\n",
            "56/56 [==============================] - 0s 2ms/step - loss: 0.0146 - accuracy: 0.9857\n",
            "Epoch 89/100\n",
            "56/56 [==============================] - 0s 2ms/step - loss: 0.0146 - accuracy: 0.9857\n",
            "Epoch 90/100\n",
            "56/56 [==============================] - 0s 2ms/step - loss: 0.0146 - accuracy: 0.9857\n",
            "Epoch 91/100\n",
            "56/56 [==============================] - 0s 2ms/step - loss: 0.0145 - accuracy: 0.9857\n",
            "Epoch 92/100\n",
            "56/56 [==============================] - 0s 2ms/step - loss: 0.0145 - accuracy: 0.9839\n",
            "Epoch 93/100\n",
            "56/56 [==============================] - 0s 2ms/step - loss: 0.0145 - accuracy: 0.9857\n",
            "Epoch 94/100\n",
            "56/56 [==============================] - 0s 2ms/step - loss: 0.0145 - accuracy: 0.9857\n",
            "Epoch 95/100\n",
            "56/56 [==============================] - 0s 2ms/step - loss: 0.0145 - accuracy: 0.9857\n",
            "Epoch 96/100\n",
            "56/56 [==============================] - 0s 2ms/step - loss: 0.0145 - accuracy: 0.9857\n",
            "Epoch 97/100\n",
            "56/56 [==============================] - 0s 2ms/step - loss: 0.0145 - accuracy: 0.9857\n",
            "Epoch 98/100\n",
            "56/56 [==============================] - 0s 2ms/step - loss: 0.0146 - accuracy: 0.9857\n",
            "Epoch 99/100\n",
            "56/56 [==============================] - 0s 2ms/step - loss: 0.0146 - accuracy: 0.9857\n",
            "Epoch 100/100\n",
            "56/56 [==============================] - 0s 2ms/step - loss: 0.0146 - accuracy: 0.9839\n"
          ]
        },
        {
          "output_type": "execute_result",
          "data": {
            "text/plain": [
              "<keras.callbacks.History at 0x7f154a5c9550>"
            ]
          },
          "metadata": {},
          "execution_count": 38
        }
      ]
    },
    {
      "cell_type": "markdown",
      "source": [
        "Вывод"
      ],
      "metadata": {
        "id": "fh7aRQWyyXkL"
      }
    },
    {
      "cell_type": "code",
      "source": [
        "Y_pred = classifier.predict(X_test)\n",
        "Y_pred = [ 1 if y>=0.5 else 0 for y in Y_pred]\n",
        "print(Y_pred)"
      ],
      "metadata": {
        "colab": {
          "base_uri": "https://localhost:8080/"
        },
        "id": "DVNFBZEXyZSt",
        "outputId": "58d6b87d-08ec-421e-d863-6cf1aace04ef"
      },
      "execution_count": null,
      "outputs": [
        {
          "output_type": "stream",
          "name": "stdout",
          "text": [
            "5/5 [==============================] - 0s 3ms/step\n",
            "[0, 0, 1, 0, 1, 0, 1, 0, 1, 1, 0, 0, 1, 1, 1, 0, 0, 1, 1, 0, 1, 1, 0, 0, 1, 1, 0, 0, 1, 1, 0, 0, 0, 0, 0, 0, 0, 1, 0, 0, 0, 0, 0, 0, 1, 1, 0, 1, 0, 1, 1, 0, 0, 1, 0, 0, 0, 0, 0, 0, 1, 0, 0, 1, 1, 1, 1, 0, 0, 1, 0, 0, 1, 1, 0, 0, 0, 0, 1, 0, 0, 0, 1, 0, 0, 0, 1, 0, 1, 1, 0, 0, 0, 1, 0, 0, 0, 1, 0, 1, 1, 0, 0, 0, 1, 0, 0, 0, 0, 0, 1, 1, 1, 0, 0, 0, 0, 0, 1, 1, 1, 1, 0, 1, 0, 0, 1, 1, 1, 1, 1, 0, 0, 1, 1, 0, 0, 1, 0, 0]\n"
          ]
        }
      ]
    },
    {
      "cell_type": "markdown",
      "source": [
        "Вывод матрицы путаницы, для того чтобы определить злокачественная или доброкачественная опухоль при онкологии молочной железы"
      ],
      "metadata": {
        "id": "qOZMCaoszVro"
      }
    },
    {
      "cell_type": "code",
      "source": [
        "from sklearn.metrics import *\n",
        "matrix_veroyatn = confusion_matrix(Y_test, Y_pred)\n",
        "print(matrix_veroyatn)"
      ],
      "metadata": {
        "colab": {
          "base_uri": "https://localhost:8080/"
        },
        "id": "_wIMe7GIzsJF",
        "outputId": "3d41c1aa-19d0-4364-eede-6fdfd273c185"
      },
      "execution_count": null,
      "outputs": [
        {
          "output_type": "stream",
          "name": "stdout",
          "text": [
            "[[82  3]\n",
            " [ 1 54]]\n"
          ]
        }
      ]
    }
  ]
}